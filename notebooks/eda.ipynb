{
 "cells": [
  {
   "cell_type": "code",
   "execution_count": 2,
   "metadata": {},
   "outputs": [],
   "source": [
    "import pandas as pd\n",
    "import numpy as np\n",
    "from summarytools import dfSummary\n",
    "import plotly.express as px \n",
    "\n",
    "import warnings \n",
    "warnings.filterwarnings(\"ignore\")"
   ]
  },
  {
   "cell_type": "code",
   "execution_count": 3,
   "metadata": {},
   "outputs": [
    {
     "data": {
      "text/html": [
       "<div>\n",
       "<style scoped>\n",
       "    .dataframe tbody tr th:only-of-type {\n",
       "        vertical-align: middle;\n",
       "    }\n",
       "\n",
       "    .dataframe tbody tr th {\n",
       "        vertical-align: top;\n",
       "    }\n",
       "\n",
       "    .dataframe thead th {\n",
       "        text-align: right;\n",
       "    }\n",
       "</style>\n",
       "<table border=\"1\" class=\"dataframe\">\n",
       "  <thead>\n",
       "    <tr style=\"text-align: right;\">\n",
       "      <th></th>\n",
       "      <th>fixed_acidity</th>\n",
       "      <th>residual_sugar</th>\n",
       "      <th>alcohol</th>\n",
       "      <th>density</th>\n",
       "      <th>quality_label</th>\n",
       "    </tr>\n",
       "  </thead>\n",
       "  <tbody>\n",
       "    <tr>\n",
       "      <th>0</th>\n",
       "      <td>9.3</td>\n",
       "      <td>6.4</td>\n",
       "      <td>13.6</td>\n",
       "      <td>1.0005</td>\n",
       "      <td>high</td>\n",
       "    </tr>\n",
       "    <tr>\n",
       "      <th>1</th>\n",
       "      <td>11.2</td>\n",
       "      <td>2.0</td>\n",
       "      <td>14.0</td>\n",
       "      <td>0.9912</td>\n",
       "      <td>medium</td>\n",
       "    </tr>\n",
       "    <tr>\n",
       "      <th>2</th>\n",
       "      <td>11.6</td>\n",
       "      <td>0.9</td>\n",
       "      <td>8.2</td>\n",
       "      <td>0.9935</td>\n",
       "      <td>low</td>\n",
       "    </tr>\n",
       "    <tr>\n",
       "      <th>3</th>\n",
       "      <td>12.9</td>\n",
       "      <td>6.6</td>\n",
       "      <td>12.7</td>\n",
       "      <td>1.0002</td>\n",
       "      <td>low</td>\n",
       "    </tr>\n",
       "    <tr>\n",
       "      <th>4</th>\n",
       "      <td>13.9</td>\n",
       "      <td>13.8</td>\n",
       "      <td>10.4</td>\n",
       "      <td>0.9942</td>\n",
       "      <td>medium</td>\n",
       "    </tr>\n",
       "  </tbody>\n",
       "</table>\n",
       "</div>"
      ],
      "text/plain": [
       "   fixed_acidity  residual_sugar  alcohol  density quality_label\n",
       "0            9.3             6.4     13.6   1.0005          high\n",
       "1           11.2             2.0     14.0   0.9912        medium\n",
       "2           11.6             0.9      8.2   0.9935           low\n",
       "3           12.9             6.6     12.7   1.0002           low\n",
       "4           13.9            13.8     10.4   0.9942        medium"
      ]
     },
     "execution_count": 3,
     "metadata": {},
     "output_type": "execute_result"
    }
   ],
   "source": [
    "data = pd.read_csv(\"wine_quality_classification.csv\")\n",
    "data.head()"
   ]
  },
  {
   "cell_type": "markdown",
   "metadata": {},
   "source": [
    "## 2. Data Quality Checks"
   ]
  },
  {
   "cell_type": "code",
   "execution_count": 5,
   "metadata": {},
   "outputs": [
    {
     "data": {
      "text/html": [
       "<style type=\"text/css\">\n",
       "#T_3f722 thead>tr>th {\n",
       "  text-align: left;\n",
       "}\n",
       "#T_3f722_row0_col0, #T_3f722_row1_col0, #T_3f722_row2_col0, #T_3f722_row3_col0, #T_3f722_row4_col0 {\n",
       "  text-align: left;\n",
       "  font-size: 12px;\n",
       "  vertical-align: middle;\n",
       "  width: 5%;\n",
       "  max-width: 50px;\n",
       "  min-width: 20px;\n",
       "}\n",
       "#T_3f722_row0_col1, #T_3f722_row1_col1, #T_3f722_row2_col1, #T_3f722_row3_col1, #T_3f722_row4_col1 {\n",
       "  text-align: left;\n",
       "  font-size: 12px;\n",
       "  vertical-align: middle;\n",
       "  width: 15%;\n",
       "  max-width: 200px;\n",
       "  min-width: 100px;\n",
       "  word-break: break-word;\n",
       "}\n",
       "#T_3f722_row0_col2, #T_3f722_row1_col2, #T_3f722_row2_col2, #T_3f722_row3_col2, #T_3f722_row4_col2 {\n",
       "  text-align: left;\n",
       "  font-size: 12px;\n",
       "  vertical-align: middle;\n",
       "  width: 30%;\n",
       "  min-width: 100px;\n",
       "}\n",
       "#T_3f722_row0_col3, #T_3f722_row1_col3, #T_3f722_row2_col3, #T_3f722_row3_col3, #T_3f722_row4_col3 {\n",
       "  text-align: left;\n",
       "  font-size: 12px;\n",
       "  vertical-align: middle;\n",
       "  width: 25%;\n",
       "  min-width: 100px;\n",
       "}\n",
       "#T_3f722_row0_col4, #T_3f722_row1_col4, #T_3f722_row2_col4, #T_3f722_row3_col4, #T_3f722_row4_col4 {\n",
       "  text-align: left;\n",
       "  font-size: 12px;\n",
       "  vertical-align: middle;\n",
       "  width: 20%;\n",
       "  min-width: 150px;\n",
       "}\n",
       "#T_3f722_row0_col5, #T_3f722_row1_col5, #T_3f722_row2_col5, #T_3f722_row3_col5, #T_3f722_row4_col5 {\n",
       "  text-align: left;\n",
       "  font-size: 12px;\n",
       "  vertical-align: middle;\n",
       "  width: 10%;\n",
       "}\n",
       "</style>\n",
       "<table id=\"T_3f722\">\n",
       "  <caption><strong>Data Frame Summary</strong><br>data<br>Dimensions: 1,000 x 5<br>Duplicates: 0</caption>\n",
       "  <thead>\n",
       "    <tr>\n",
       "      <th id=\"T_3f722_level0_col0\" class=\"col_heading level0 col0\" >No</th>\n",
       "      <th id=\"T_3f722_level0_col1\" class=\"col_heading level0 col1\" >Variable</th>\n",
       "      <th id=\"T_3f722_level0_col2\" class=\"col_heading level0 col2\" >Stats / Values</th>\n",
       "      <th id=\"T_3f722_level0_col3\" class=\"col_heading level0 col3\" >Freqs / (% of Valid)</th>\n",
       "      <th id=\"T_3f722_level0_col4\" class=\"col_heading level0 col4\" >Graph</th>\n",
       "      <th id=\"T_3f722_level0_col5\" class=\"col_heading level0 col5\" >Missing</th>\n",
       "    </tr>\n",
       "  </thead>\n",
       "  <tbody>\n",
       "    <tr>\n",
       "      <td id=\"T_3f722_row0_col0\" class=\"data row0 col0\" >1</td>\n",
       "      <td id=\"T_3f722_row0_col1\" class=\"data row0 col1\" ><strong>fixed_acidity</strong><br>[float64]</td>\n",
       "      <td id=\"T_3f722_row0_col2\" class=\"data row0 col2\" >Mean (sd) : 10.2 (3.5)<br>min < med < max:<br>4.0 < 10.4 < 16.0<br>IQR (CV) : 6.0 (2.9)</td>\n",
       "      <td id=\"T_3f722_row0_col3\" class=\"data row0 col3\" >121 distinct values</td>\n",
       "      <td id=\"T_3f722_row0_col4\" class=\"data row0 col4\" ><img src = \"data:image/png;base64, iVBORw0KGgoAAAANSUhEUgAAAKoAAABGCAYAAABc8A97AAAAOXRFWHRTb2Z0d2FyZQBNYXRwbG90bGliIHZlcnNpb24zLjUuMiwgaHR0cHM6Ly9tYXRwbG90bGliLm9yZy8qNh9FAAAACXBIWXMAAA9hAAAPYQGoP6dpAAACgElEQVR4nO3dPY7aUBSG4XvDgAxIttBI0LGBSCkoWUQWmyWkYAXsgA4JISM8Y2GMUyVSioB/uOF88D69mVu8g8890mh8VVUOsO7Low8A1PH26APgb977oXNu0OEjTlVVfd7rPFYQqiHe++H7+/v3OI4nbT/jcDjsvfc/ni1WQrVlEMfxZLlcfiZJkjd9OE3TaLVaTXa73cA5R6gIK0mSfDqdfrR8fHjXwxjBZQoS+EbFH5YvcoQK55z9ixyh4jfTFzlCDaDDKzS+XC79e5+nCasXOUK9sy6v0KIoorIsv+Z5/tM51zaWhynLsu+ci733bR6/Ot8S6v21foVuNpvJer0enc/nXqjDhZJlWb8oim/z+bzX6/Uajw635ltCDaTNK3S/38vuQE+n01sURaPFYpHPZrN9k2frzLeE+g/Kc+YjjcfjtjPu1V/SoKFa3std88pzplXBQrW+l7vhJedMy0J+o5rey9XxanOmZcFnVKt7OWgxfZkKuZeDFrOhht7LQYvZUEPv5aDlZqiP3ie23cuVZRm79mPDS+9CLboaquo+sevYwC7UnlvfqJL7xC5jg3PsQi2qNaOq7hPbjg0Wzt5Wh02J6XHH7GUKzXUZeayPO4T6RLqMPNbHHUJ9Qm1GHuvjDn8uDQmECgmECgmECgmECgmECgmECgmECgmECgmECgmECgmECgmECgmECgmECgmECgmECgmECgmECgmECgmECgmECgmECgmECgmECgmECgmECgmECgmECgmECgmECgmECgmECgmECgmECgmECgmECgmECgmECgmECgm1/iFamqZR0w8+Ho+Rc85lWRZtt9vR/3xe9Wernrvr83X6+gXdMrLf3JwiugAAAABJRU5ErkJggg==\"></img></td>\n",
       "      <td id=\"T_3f722_row0_col5\" class=\"data row0 col5\" >0<br>(0.0%)</td>\n",
       "    </tr>\n",
       "    <tr>\n",
       "      <td id=\"T_3f722_row1_col0\" class=\"data row1 col0\" >2</td>\n",
       "      <td id=\"T_3f722_row1_col1\" class=\"data row1 col1\" ><strong>residual_sugar</strong><br>[float64]</td>\n",
       "      <td id=\"T_3f722_row1_col2\" class=\"data row1 col2\" >Mean (sd) : 7.7 (4.2)<br>min < med < max:<br>0.5 < 7.5 < 15.0<br>IQR (CV) : 7.4 (1.8)</td>\n",
       "      <td id=\"T_3f722_row1_col3\" class=\"data row1 col3\" >145 distinct values</td>\n",
       "      <td id=\"T_3f722_row1_col4\" class=\"data row1 col4\" ><img src = \"data:image/png;base64, iVBORw0KGgoAAAANSUhEUgAAAKoAAABGCAYAAABc8A97AAAAOXRFWHRTb2Z0d2FyZQBNYXRwbG90bGliIHZlcnNpb24zLjUuMiwgaHR0cHM6Ly9tYXRwbG90bGliLm9yZy8qNh9FAAAACXBIWXMAAA9hAAAPYQGoP6dpAAACjElEQVR4nO3dTY7aQBRF4VehQQYkW4gIZmwgUgYMWUQWmyUEiRWwA2ZICBnhtMVvRpl1Guyi4rpwvnk1Hpxnm9cttbterwbE7kvTFwDc463pC4iVc65rZp2axw/X6/X9kdfz6gj1A8657nA4/JGm6aDO+d1ut3XO/VSL1XM4zQIOaNShNnhX66RpOpjNZu9ZlpVVDuZ5niwWi8Fms+mYmUyovsNpFnZAow01hrtalmXlaDT6XeNot+5nNqj2cJqFH9BoQ7UXvKvFwGM4zQIOaMyhmtnL3dXwD6ynIIFQIYFQIeHmOyqLb8Tg01BjWBEpOp/PbTNLnXN1jjPcH7h1R2VFVFFRFO3j8fh9Mpm0Wq1W5X2k8nCHHNC71lOsiO53OBzekiTpTafTcjweb6ucVR7u0AMa/R5VVb/ff6nhDj2ghIqHCjWgrKcggVAhgVAhgVAhIeiXKc+9Wnq5XNoPviSIChaq717teDwm5/P5W1mWv8ys7t9H4kkEC9Vnr2ZmtlqtBsvlsnc6nVohri9Wnk8hsyf9FWzwPWrdvdp2u/VafCu+dvg+hcy0fwX7madc+Ku+dvg+hfI8T+bz+Wiz2Xx1zu0qHo/6O8FThqr+2lH3KeQzoLF/J3jKUP9q6rWjKT4D2vRw3vLUob6qOgMa+3Cy8IcEQoUEQoUEQoUEQoUEQoUEQoUEQoUEQoUEQoUEQoUEQoUEQoUEQoUEQoUEQoUEQoUEQoUEQoUEQoUEQoUEQoUEQoUEQoUEQoUEQoUEQoUEQoUEQoUEQoUEQoUEQoUEQoUEQoUEQoUEQoUEQoUEQoUEQoUEQoWEu/4hWp7nSdUfvN/vEzOzoiiS9Xrd+5/nVT9b9bp9z9/T1x+nO8ODKf5h4AAAAABJRU5ErkJggg==\"></img></td>\n",
       "      <td id=\"T_3f722_row1_col5\" class=\"data row1 col5\" >0<br>(0.0%)</td>\n",
       "    </tr>\n",
       "    <tr>\n",
       "      <td id=\"T_3f722_row2_col0\" class=\"data row2 col0\" >3</td>\n",
       "      <td id=\"T_3f722_row2_col1\" class=\"data row2 col1\" ><strong>alcohol</strong><br>[float64]</td>\n",
       "      <td id=\"T_3f722_row2_col2\" class=\"data row2 col2\" >Mean (sd) : 11.0 (1.8)<br>min < med < max:<br>8.0 < 11.0 < 14.0<br>IQR (CV) : 3.1 (6.3)</td>\n",
       "      <td id=\"T_3f722_row2_col3\" class=\"data row2 col3\" >61 distinct values</td>\n",
       "      <td id=\"T_3f722_row2_col4\" class=\"data row2 col4\" ><img src = \"data:image/png;base64, iVBORw0KGgoAAAANSUhEUgAAAKoAAABGCAYAAABc8A97AAAAOXRFWHRTb2Z0d2FyZQBNYXRwbG90bGliIHZlcnNpb24zLjUuMiwgaHR0cHM6Ly9tYXRwbG90bGliLm9yZy8qNh9FAAAACXBIWXMAAA9hAAAPYQGoP6dpAAACvElEQVR4nO3du47aQBSA4TNhQQNItrgIOl5gpRRINDxAyjxsHiFIFFvzBnRICIFw1sIYp0ya5eLxYB/zf+1q1l7rlzVzXKzJskyAqvtW9g0A93gr+wZQH8aYtoi0ci4/ZVn2+dUPCRWFMMa0B4PBzyAIennWHw6HnTHm11exEiqK0gqCoDefzz/DMIwfWbjf7+1yuextt9uWiBAq/AvDMB6NRn9yLG1f+yGHKahAqFCBUKFCbfeojqMSkRvjkjpyfGbB5XJpFnk//6tlqK6jEpHb45K6cX1mSZLYNE3f4zj+LSJ5DlNX1TJUcRiViNw3Lqkhp2e2Xq97q9Wqcz6fGz5urq6hiojTqETkxrikrvI+s91u5/V5cZiCCjffqD6/33q8tvPGPk3TpogExpg8y1/uIObb1VB9f7/1dW3XjX0URc0kSb5PJpNGo9F4eL/2agexZ7j1RvX6/dbXtV039qfT6c1a25lOp/F4PN49svZFD2Le3XWY8vX91te1i9rYd7vdXH93mqaBsG0oVK1P/WUoe9tQ5r7eJ0ItmOu2YbFYjLbb7dAYc8hxedvv93+EYdh9dKHvgb0rQvUkz7bB9W2cJIkVkffZbPYxHA4fCt33wN4VoVaIy9tY5F9s1tqkrH29L4RaQXkPcVWPzQVfpqACoUIFQoUKXveojt/LKz3Xw3N5C7WIUUuV53p4Lm+hFjVqqepcD8/lfTzFqAVF4DAFFQgVKhAqVCBUqECoUIFQoQKhQgVChQqEChUIFSoQKlQgVKhAqFCBUKECoUIFQoUKhAoVCBUqECpUIFSoQKhQgVChAqFCBUKFCoQKFQgVKhAqVCBUqECoUIFQoQKhQgVChQqEChUIFSoQKlQgVKhAqFCBUKECoUKFu/7P1H6/t4/+4uPxaEVEoiiym82m88z1Wq+t9b5d19/T11/LXqGUie0GBwAAAABJRU5ErkJggg==\"></img></td>\n",
       "      <td id=\"T_3f722_row2_col5\" class=\"data row2 col5\" >0<br>(0.0%)</td>\n",
       "    </tr>\n",
       "    <tr>\n",
       "      <td id=\"T_3f722_row3_col0\" class=\"data row3 col0\" >4</td>\n",
       "      <td id=\"T_3f722_row3_col1\" class=\"data row3 col1\" ><strong>density</strong><br>[float64]</td>\n",
       "      <td id=\"T_3f722_row3_col2\" class=\"data row3 col2\" >Mean (sd) : 1.0 (0.0)<br>min < med < max:<br>1.0 < 1.0 < 1.0<br>IQR (CV) : 0.0 (232.0)</td>\n",
       "      <td id=\"T_3f722_row3_col3\" class=\"data row3 col3\" >151 distinct values</td>\n",
       "      <td id=\"T_3f722_row3_col4\" class=\"data row3 col4\" ><img src = \"data:image/png;base64, iVBORw0KGgoAAAANSUhEUgAAAKoAAABGCAYAAABc8A97AAAAOXRFWHRTb2Z0d2FyZQBNYXRwbG90bGliIHZlcnNpb24zLjUuMiwgaHR0cHM6Ly9tYXRwbG90bGliLm9yZy8qNh9FAAAACXBIWXMAAA9hAAAPYQGoP6dpAAACjUlEQVR4nO3dQY7aMBiG4d9lQAGkRAgJdlygUhcsOUQP2yN0wQm4ATskFIGgg4AkvUBVQjzB/sL77MNE4bVj7MW4qqoMiN230DcA1PER+gba4pwbmtnA4yOuVVV9ftX9wE8nQ3XODafT6c80TSdNP+N4PObOuV/EGodOhmpmgzRNJ6vV6jPLssuzFx8Oh2S9Xk/2+/3AzAg1Al0N1czMsiy7zGazPw0vH37pzcBLp0N9R55r82jX5VGH6vHQ07Is+199P7HzXZv7rsvbHCTRhurz0G+3W1IUxffL5fLbzJq++hU1Xpv7rsvbHiTRhmoeD3273U42m83ofr/32rq5mHmszX3W5a0OkphDNbNmDz3Pc34IBdLWIOFkChIIFRKif/Ur6uoWUUithur5hUluMYXeIuqq1kL1/cKEt5iCbRF1WZszqtd5e+gtpqIo+maWOueevTQty7KfZVkeYIuos1pfozbdrgi5xXQ+n/u32+3HYrHo9Xq9pwaZ8JsgavyY+ofr9fqRJMlouVxe5vN5/sy1vm8Cj5ncTHRdX8fDUN/5vH08Hr/0sMFnJjfzn81jHiT/DZXz9tfymcnN/Gbz0IPkkUczKuftATSZyc38ZvOQg6SOWmtUztvfR4hBUgdHqJBAqJBAqJBAqJBAqJBAqJBAqJBAqJBAqJBAqJBAqJBAqJBAqJBAqJBAqJBAqJBAqJBAqJBAqJBAqJBAqJBAqJBAqJBAqJBAqJBAqJBAqJBAqJBAqJBAqJBAqJBAqJBAqJBAqJBAqJBAqJBAqJBAqJBAqJBAqJBAqJBAqJBAqJBAqJBAqJBAqJBQ69+gHw6H5NkPPp1OiZnZ+XxOdrvd6JXXq/5t1fv2vb5OX38BAYyo6XkpMxkAAAAASUVORK5CYII=\"></img></td>\n",
       "      <td id=\"T_3f722_row3_col5\" class=\"data row3 col5\" >0<br>(0.0%)</td>\n",
       "    </tr>\n",
       "    <tr>\n",
       "      <td id=\"T_3f722_row4_col0\" class=\"data row4 col0\" >5</td>\n",
       "      <td id=\"T_3f722_row4_col1\" class=\"data row4 col1\" ><strong>quality_label</strong><br>[object]</td>\n",
       "      <td id=\"T_3f722_row4_col2\" class=\"data row4 col2\" >1. medium<br>2. high<br>3. low</td>\n",
       "      <td id=\"T_3f722_row4_col3\" class=\"data row4 col3\" >355 (35.5%)<br>343 (34.3%)<br>302 (30.2%)</td>\n",
       "      <td id=\"T_3f722_row4_col4\" class=\"data row4 col4\" ><img src = \"data:image/png;base64, iVBORw0KGgoAAAANSUhEUgAAAJsAAABFCAYAAABdVZTTAAAAOXRFWHRTb2Z0d2FyZQBNYXRwbG90bGliIHZlcnNpb24zLjUuMiwgaHR0cHM6Ly9tYXRwbG90bGliLm9yZy8qNh9FAAAACXBIWXMAAA9hAAAPYQGoP6dpAAABlklEQVR4nO3bQYriYBSF0ZdGiq5JggguxkX0YnsR2Y2IGVQVNUkPHPQGypv8v+es4AkfSoJ3WNe1IOHX1gfwOoaqeq+qt60PeZLvdV0/tz6Ch8PpdPozjuNx60OeYVmW2zAMfwW3D4dxHI+Xy+VzmqavrY/5Sff7/fc8z8fr9fpWVWLbgUNV1TRNX+fz+WPrY57gfesD+M8DAjFiI0ZsxIiNGLERIzZixEaM2IgRGzFiI0ZsxIiNGLERIzZiDlWP/35tfchP6/Ezte6wLMttnudjdfjfr2VZblX1vfUdPNggEDOY8pHS6zebb7Qd6nJdZVW1T92tq6yq9qvXdVV3T9Y98FKXGLERIzZixEaM2IgRGzFiI0ZsxIiNGLERIzZixEaM2IgRGzHdrat6+iy96XJdZVW1TzYIxFhXEeMBgZjWf0b9XDak6SmfyV5bmp3ymey1p/UpXzeva16BBwRixEaM2IgRGzFiI0ZsxIiNGLERIzZixEaM2IgRGzFiI0ZsxDQ75Wvx5lfX9JTPZK8tNgjEmPIR8w9KvKNK0oGUDgAAAABJRU5ErkJggg==\"></img></td>\n",
       "      <td id=\"T_3f722_row4_col5\" class=\"data row4 col5\" >0<br>(0.0%)</td>\n",
       "    </tr>\n",
       "  </tbody>\n",
       "</table>\n"
      ],
      "text/plain": [
       "<pandas.io.formats.style.Styler at 0x20763bbd850>"
      ]
     },
     "execution_count": 5,
     "metadata": {},
     "output_type": "execute_result"
    }
   ],
   "source": [
    "dfSummary(data, is_collapsible=False)"
   ]
  },
  {
   "cell_type": "markdown",
   "metadata": {},
   "source": [
    "## 3. Exploring the data"
   ]
  },
  {
   "cell_type": "code",
   "execution_count": 6,
   "metadata": {},
   "outputs": [
    {
     "name": "stdout",
     "output_type": "stream",
     "text": [
      "We have 4 numerical features : ['fixed_acidity', 'residual_sugar', 'alcohol', 'density']\n",
      "\n",
      "We have 1 categorical features : ['quality_label']\n"
     ]
    }
   ],
   "source": [
    "# define numerical & categorical columns\n",
    "numeric_features = [feature for feature in data.columns if data[feature].dtype != 'O']\n",
    "categorical_features = [feature for feature in data.columns if data[feature].dtype == 'O']\n",
    "\n",
    "# print columns\n",
    "print('We have {} numerical features : {}'.format(len(numeric_features), numeric_features))\n",
    "print('\\nWe have {} categorical features : {}'.format(len(categorical_features), categorical_features))"
   ]
  },
  {
   "cell_type": "code",
   "execution_count": 8,
   "metadata": {},
   "outputs": [
    {
     "name": "stdout",
     "output_type": "stream",
     "text": [
      "medium    35.5\n",
      "high      34.3\n",
      "low       30.2\n",
      "Name: quality_label, dtype: float64\n"
     ]
    }
   ],
   "source": [
    "# proportion of count data on categorical columns\n",
    "print(data['quality_label'].value_counts(normalize=True) * 100)"
   ]
  },
  {
   "cell_type": "markdown",
   "metadata": {},
   "source": [
    "#### Insights\n",
    "- Our quality label is faily balanced in the dataset"
   ]
  },
  {
   "cell_type": "code",
   "execution_count": 17,
   "metadata": {},
   "outputs": [],
   "source": [
    "import plotly.io as pio\n",
    "pio.renderers.default = 'iframe'"
   ]
  },
  {
   "cell_type": "code",
   "execution_count": null,
   "metadata": {},
   "outputs": [
    {
     "data": {
      "text/html": [
       "<iframe\n",
       "    scrolling=\"no\"\n",
       "    width=\"620px\"\n",
       "    height=\"420\"\n",
       "    src=\"iframe_figures/figure_21.html\"\n",
       "    frameborder=\"0\"\n",
       "    allowfullscreen\n",
       "></iframe>\n"
      ]
     },
     "metadata": {},
     "output_type": "display_data"
    }
   ],
   "source": [
    "import plotly.graph_objects as go\n",
    "from plotly.subplots import make_subplots\n",
    "import numpy as np\n",
    "from scipy.stats import gaussian_kde\n",
    "\n",
    "# Setup subplot grid: 4 rows x 3 columns\n",
    "rows = 4\n",
    "cols = 3\n",
    "fig = make_subplots(rows=rows, cols=cols, subplot_titles=numeric_features)\n",
    "\n",
    "# Loop through each numerical feature\n",
    "for idx, feature in enumerate(numeric_features):\n",
    "    row = idx // cols + 1\n",
    "    col = idx % cols + 1\n",
    "    \n",
    "    # Compute KDE using scipy (as Plotly doesn't have built-in KDE)\n",
    "    x = data[feature].dropna()\n",
    "    kde = gaussian_kde(x)\n",
    "    x_range = np.linspace(x.min(), x.max(), 200)\n",
    "    y_kde = kde(x_range)\n",
    "\n",
    "    # Add KDE line to subplot\n",
    "    fig.add_trace(\n",
    "        go.Scatter(x=x_range, y=y_kde, mode='lines', name=feature, line=dict(color='blue')),\n",
    "        row=row, col=col\n",
    "    )\n",
    "\n",
    "# Layout settings\n",
    "fig.update_layout(\n",
    "    height=400, width=600,\n",
    "    title_text=\"Univariate Analysis of Numerical Features\",\n",
    "    title_font=dict(size=20, family=\"Arial\", color=\"black\"),\n",
    "    showlegend=False\n",
    ")\n",
    "\n",
    "fig.show()"
   ]
  }
 ],
 "metadata": {
  "kernelspec": {
   "display_name": "base",
   "language": "python",
   "name": "python3"
  },
  "language_info": {
   "codemirror_mode": {
    "name": "ipython",
    "version": 3
   },
   "file_extension": ".py",
   "mimetype": "text/x-python",
   "name": "python",
   "nbconvert_exporter": "python",
   "pygments_lexer": "ipython3",
   "version": "3.9.13"
  }
 },
 "nbformat": 4,
 "nbformat_minor": 2
}
